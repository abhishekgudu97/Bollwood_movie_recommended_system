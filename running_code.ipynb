{
 "cells": [
  {
   "cell_type": "code",
   "execution_count": 1,
   "id": "90eeeaf5-2857-45eb-8344-a96a4a967430",
   "metadata": {},
   "outputs": [
    {
     "name": "stdout",
     "output_type": "stream",
     "text": [
      "Enter movie name (or leave blank):  \n",
      "Enter genre (or leave blank):  hoorror\n",
      "Enter casting (or leave blank):  \n",
      "Enter year of release (or leave blank):  \n",
      "Enter year range (e.g., 2000-2010) or leave blank:  2000-2020\n"
     ]
    },
    {
     "name": "stdout",
     "output_type": "stream",
     "text": [
      "No suitable recommendations found based on your search.\n"
     ]
    },
    {
     "name": "stdout",
     "output_type": "stream",
     "text": [
      "Would you like to see more recommendations? (yes/no):  yes\n"
     ]
    },
    {
     "name": "stdout",
     "output_type": "stream",
     "text": [
      "Top 20 Movie Recommendations:\n",
      "Empty DataFrame\n",
      "Columns: [sl no, IMDB_movie_id, movie_name, year_of_release, genre, overview, director, cast, predictions]\n",
      "Index: []\n"
     ]
    },
    {
     "name": "stdout",
     "output_type": "stream",
     "text": [
      "Would you like to see even more recommendations? (yes/no):  no\n"
     ]
    },
    {
     "name": "stdout",
     "output_type": "stream",
     "text": [
      "ok....I will glad to help you again....Thank you!\n"
     ]
    },
    {
     "name": "stdout",
     "output_type": "stream",
     "text": [
      "Enter movie name (or leave blank):  swarg\n",
      "Enter genre (or leave blank):  \n",
      "Enter casting (or leave blank):  \n",
      "Enter year of release (or leave blank):  \n",
      "Enter year range (e.g., 2000-2010) or leave blank:  \n"
     ]
    },
    {
     "name": "stderr",
     "output_type": "stream",
     "text": [
      "C:\\Users\\Abhishek\\Desktop\\github upload\\movie recommed system\\Bollywood_Movie_Recommended_System.py:51: SettingWithCopyWarning: \n",
      "A value is trying to be set on a copy of a slice from a DataFrame.\n",
      "Try using .loc[row_indexer,col_indexer] = value instead\n",
      "\n",
      "See the caveats in the documentation: https://pandas.pydata.org/pandas-docs/stable/user_guide/indexing.html#returning-a-view-versus-a-copy\n",
      "  df_filtered['predictions'] = predictions\n"
     ]
    },
    {
     "name": "stdout",
     "output_type": "stream",
     "text": [
      "Top 10 Movie Recommendations:\n",
      "     sl no IMDB_movie_id movie_name  year_of_release  genre  \\\n",
      "300    289     tt0173283      Swarg           1990.0  Drama   \n",
      "\n",
      "                                              overview      director  \\\n",
      "300  Krishna is very loyal to his master and treats...  David Dhawan   \n",
      "\n",
      "                                             cast  predictions  \n",
      "300  Rajesh Khanna, Govinda, Madhavi, Juhi Chawla     0.854778  \n"
     ]
    },
    {
     "name": "stdout",
     "output_type": "stream",
     "text": [
      "Would you like to see more recommendations? (yes/no):  no\n"
     ]
    },
    {
     "name": "stdout",
     "output_type": "stream",
     "text": [
      "ok....I will glad to help you again....Thank you!\n"
     ]
    },
    {
     "name": "stdout",
     "output_type": "stream",
     "text": [
      "Enter movie name (or leave blank):  \n",
      "Enter genre (or leave blank):  \n",
      "Enter casting (or leave blank):  \n",
      "Enter year of release (or leave blank):  \n",
      "Enter year range (e.g., 2000-2010) or leave blank:  \n"
     ]
    },
    {
     "name": "stdout",
     "output_type": "stream",
     "text": [
      "Top 10 Movie Recommendations:\n",
      "      sl no IMDB_movie_id                        movie_name  year_of_release  \\\n",
      "1083   1122     tt2066062                    Shortcut Romeo           2013.0   \n",
      "386     371     tt0110942                         Raja Babu           1994.0   \n",
      "1184   1153     tt3683702                             Fugly           2014.0   \n",
      "1821   1880    tt14398454                     Tara vs Bilal           2022.0   \n",
      "1121   1086     tt2708550                               Jal           2013.0   \n",
      "411     396     tt0113913                          Naajayaz           1995.0   \n",
      "2140   2179    tt13556522                            Apne 2              NaN   \n",
      "1159   1187     tt3173910                  Hasee Toh Phasee           2014.0   \n",
      "918     899     tt1242782                              Luck           2009.0   \n",
      "545     557     tt0305173  Aamdani Atthanni Kharcha Rupaiya           2001.0   \n",
      "\n",
      "                         genre  \\\n",
      "1083      Action, Crime, Drama   \n",
      "386      Action, Comedy, Drama   \n",
      "1184           Drama, Thriller   \n",
      "1821    Comedy, Drama, Romance   \n",
      "1121                     Drama   \n",
      "411              Action, Drama   \n",
      "2140                     Drama   \n",
      "1159           Comedy, Romance   \n",
      "918   Action, Adventure, Drama   \n",
      "545      Comedy, Drama, Family   \n",
      "\n",
      "                                               overview  \\\n",
      "1083  Suraj spots a couple making love on a golf cou...   \n",
      "386   A man tries to become a better son after his i...   \n",
      "1184  Four friends fight against a corrupt police of...   \n",
      "1821  Set in London, a romantic comedy where the lea...   \n",
      "1121  A gifted young man from a drought-stricken vil...   \n",
      "411   Inspector Jai is an upright and fearless cop w...   \n",
      "2140                                         Add a Plot   \n",
      "1159  Nikhil is re-introduced to Meeta nearly ten ye...   \n",
      "918   An underworld kingpin recruits people endowed ...   \n",
      "545   In order to make ends meet, three women steps ...   \n",
      "\n",
      "                                    director  \\\n",
      "1083                            Susi Ganesan   \n",
      "386                             David Dhawan   \n",
      "1184                          Kabir Sadanand   \n",
      "1821                             Samar Iqbal   \n",
      "1121                            Girish Malik   \n",
      "411                             Mahesh Bhatt   \n",
      "2140                             Anil Sharma   \n",
      "1159                            Vinil Mathew   \n",
      "918                               Soham Shah   \n",
      "545   K. Raghavendra Rao, A.S. Ravindra Babu   \n",
      "\n",
      "                                                   cast  predictions  \n",
      "1083  Neil Nitin Mukesh, Ameesha Patel, Puja Gupta, ...     0.999881  \n",
      "386   Govinda, Karisma Kapoor, Shakti Kapoor, Kader ...     0.999864  \n",
      "1184  Jimmy Shergill, Mohit Marwah, Kiara Advani, Vi...     0.998776  \n",
      "1821  Sonia Rathee, Harshvardhan Rane, Shammi Aulakh...     0.998384  \n",
      "1121  Purab Kohli, Tannishtha Chatterjee, Kirti Kulh...     0.997813  \n",
      "411   Naseeruddin Shah, Ajay Devgn, Juhi Chawla, Dee...     0.996395  \n",
      "2140  Sunny Deol, Dharmendra, Bobby Deol, Rohit Chou...     0.996385  \n",
      "1159  Sidharth Malhotra, Parineeti Chopra, Adah Shar...     0.995906  \n",
      "918   Mithun Chakraborty, Sanjay Dutt, Imran Khan, R...     0.994451  \n",
      "545       Govinda, Juhi Chawla, Tabu, Chandrachur Singh     0.993982  \n"
     ]
    },
    {
     "name": "stdout",
     "output_type": "stream",
     "text": [
      "Would you like to see more recommendations? (yes/no):  \n"
     ]
    },
    {
     "name": "stdout",
     "output_type": "stream",
     "text": [
      "ok....I will glad to help you again....Thank you!\n"
     ]
    }
   ],
   "source": [
    "from Bollywood_Movie_Recommended_System import recommend_movies, interactive_recommendation\n",
    "\n",
    "# Start interactive session\n",
    "interactive_recommendation()\n"
   ]
  },
  {
   "cell_type": "code",
   "execution_count": null,
   "id": "cb0d679d-15b4-431a-b586-75ac85a2ff1e",
   "metadata": {},
   "outputs": [],
   "source": []
  }
 ],
 "metadata": {
  "kernelspec": {
   "display_name": "Python 3 (ipykernel)",
   "language": "python",
   "name": "python3"
  },
  "language_info": {
   "codemirror_mode": {
    "name": "ipython",
    "version": 3
   },
   "file_extension": ".py",
   "mimetype": "text/x-python",
   "name": "python",
   "nbconvert_exporter": "python",
   "pygments_lexer": "ipython3",
   "version": "3.12.4"
  }
 },
 "nbformat": 4,
 "nbformat_minor": 5
}
