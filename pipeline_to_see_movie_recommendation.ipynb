{
 "cells": [
  {
   "cell_type": "code",
   "execution_count": 7,
   "id": "c1583f15-e908-4956-ba13-74035f9bde05",
   "metadata": {},
   "outputs": [
    {
     "name": "stdout",
     "output_type": "stream",
     "text": [
      "Writing Bollywood_Movie_Recommended_System.py\n"
     ]
    }
   ],
   "source": [
    "%%writefile Bollywood_Movie_Recommended_System.py\n",
    "\n",
    "import difflib\n",
    "import numpy as np\n",
    "import pandas as pd\n",
    "from tensorflow.keras.models import load_model\n",
    "\n",
    "# Load the pre-trained model\n",
    "model = load_model('movie_recommendation_system_lstm.keras')\n",
    "\n",
    "# Assuming `df` is your movie dataset, load it from a CSV\n",
    "df = pd.read_csv(r\"C:\\Users\\Abhishek\\Desktop\\project done\\movie_rm_s\\updated_bollywood_movies.csv\")\n",
    "\n",
    "# Function to correct spelling\n",
    "def correct_spelling(input_string, possible_values):\n",
    "    close_matches = difflib.get_close_matches(input_string.lower(), possible_values, n=1)\n",
    "    return close_matches[0] if close_matches else input_string\n",
    "\n",
    "# Function to recommend movies based on various criteria\n",
    "def recommend_movies(movie_name, genre, casting, year_of_release, year_range, top_n):\n",
    "    # Ensure the 'year_of_release' is treated as numeric\n",
    "    df['year_of_release'] = pd.to_numeric(df['year_of_release'], errors='coerce')\n",
    "\n",
    "    # Initialize the filtered DataFrame based on initial filters\n",
    "    df_filtered = df\n",
    "\n",
    "    # Filter based on movie name if provided\n",
    "    if movie_name:\n",
    "        df_filtered = df_filtered[df_filtered['movie_name'].str.contains(movie_name, case=False, na=False)]\n",
    "\n",
    "    # Filter based on genre if provided\n",
    "    if genre:\n",
    "        df_filtered = df_filtered[df_filtered['genre'].str.contains(genre, case=False, na=False)]\n",
    "\n",
    "    # Filter based on casting if provided\n",
    "    if casting:\n",
    "        df_filtered = df_filtered[df_filtered['cast'].str.contains(casting, case=False, na=False)]\n",
    "\n",
    "    # Filter based on year of release if provided\n",
    "    if year_of_release:\n",
    "        df_filtered = df_filtered[df_filtered['year_of_release'] == year_of_release]\n",
    "\n",
    "    # Filter based on year range if provided\n",
    "    if year_range:\n",
    "        df_filtered = df_filtered[(df_filtered['year_of_release'] >= year_range[0]) & \n",
    "                                  (df_filtered['year_of_release'] <= year_range[1])]\n",
    "\n",
    "    # Here, you can replace this with actual predictions from the model (mock predictions used)\n",
    "    predictions = np.random.rand(df_filtered.shape[0])  # Mock predictions\n",
    "\n",
    "    # Add predictions to the filtered DataFrame for display\n",
    "    df_filtered['predictions'] = predictions\n",
    "\n",
    "    # Sort by predictions and return the top N\n",
    "    return df_filtered.nlargest(top_n, 'predictions')\n",
    "\n",
    "\n",
    "def interactive_recommendation():\n",
    "    while True:\n",
    "        # Ask user for inputs one by one\n",
    "        movie_name = input(\"Enter movie name (or leave blank): \")\n",
    "        genre = input(\"Enter genre (or leave blank): \")\n",
    "        casting = input(\"Enter casting (or leave blank): \")\n",
    "        year_of_release = input(\"Enter year of release (or leave blank): \")\n",
    "        \n",
    "        # Convert year_of_release to int if provided\n",
    "        if year_of_release:\n",
    "            try:\n",
    "                year_of_release = int(year_of_release)\n",
    "            except ValueError:\n",
    "                year_of_release = None\n",
    "\n",
    "        # Ask for year range if desired\n",
    "        year_range_input = input(\"Enter year range (e.g., 2000-2010) or leave blank: \")\n",
    "        if year_range_input:\n",
    "            try:\n",
    "                year_range = list(map(int, year_range_input.split('-')))\n",
    "            except ValueError:\n",
    "                year_range = None\n",
    "        else:\n",
    "            year_range = None\n",
    "\n",
    "        # Get top recommendations\n",
    "        top_10 = recommend_movies(movie_name, genre, casting, year_of_release, year_range, top_n=10)\n",
    "        if top_10.empty:\n",
    "            print(\"No suitable recommendations found based on your search.\")\n",
    "        else:\n",
    "            print(\"Top 10 Movie Recommendations:\")\n",
    "            print(top_10)\n",
    "\n",
    "        # Ask if user wants more recommendations\n",
    "        response = input(\"Would you like to see more recommendations? (yes/no): \").strip().lower()\n",
    "        if response == 'yes':\n",
    "            top_20 = recommend_movies(movie_name, genre, casting, year_of_release, year_range, top_n=20)\n",
    "            print(\"Top 20 Movie Recommendations:\")\n",
    "            print(top_20)\n",
    "\n",
    "            response = input(\"Would you like to see even more recommendations? (yes/no): \").strip().lower()\n",
    "            if response == 'yes':\n",
    "                top_50 = recommend_movies(movie_name, genre, casting, year_of_release, year_range, top_n=50)\n",
    "                print(\"Top 50 Movie Recommendations:\")\n",
    "                print(top_50)\n",
    "            else:\n",
    "                print(\"ok....I will glad to help you again....Thank you!\")\n",
    "        elif response == 'no':\n",
    "            print(\"ok....I will glad to help you again....Thank you!\")\n",
    "        else:\n",
    "            print(\"ok....I will glad to help you again....Thank you!\")\n",
    "            break\n",
    "\n",
    "# Call the function if needed for interactive session\n",
    "# interactive_recommendation()\n"
   ]
  },
  {
   "cell_type": "code",
   "execution_count": 8,
   "id": "892366e5-8cba-4268-96e7-8edca5a478e9",
   "metadata": {},
   "outputs": [
    {
     "name": "stdin",
     "output_type": "stream",
     "text": [
      "Enter movie name (or leave blank):  love\n",
      "Enter genre (or leave blank):  love\n",
      "Enter casting (or leave blank):  \n",
      "Enter year of release (or leave blank):  \n",
      "Enter year range (e.g., 2000-2010) or leave blank:  2010-2020\n"
     ]
    },
    {
     "name": "stdout",
     "output_type": "stream",
     "text": [
      "No suitable recommendations found based on your search.\n"
     ]
    },
    {
     "name": "stdin",
     "output_type": "stream",
     "text": [
      "Would you like to see more recommendations? (yes/no):  ye\n",
      "Enter movie name (or leave blank):  horror\n",
      "Enter genre (or leave blank):  horror\n",
      "Enter casting (or leave blank):  \n",
      "Enter year of release (or leave blank):  2020\n",
      "Enter year range (e.g., 2000-2010) or leave blank:  \n"
     ]
    },
    {
     "name": "stdout",
     "output_type": "stream",
     "text": [
      "No suitable recommendations found based on your search.\n"
     ]
    },
    {
     "name": "stdin",
     "output_type": "stream",
     "text": [
      "Would you like to see more recommendations? (yes/no):  no\n"
     ]
    },
    {
     "name": "stdout",
     "output_type": "stream",
     "text": [
      "ok....I will glad to help you again....Thank you!\n"
     ]
    }
   ],
   "source": [
    "from Bollywood_Movie_Recommended_System import recommend_movies, interactive_recommendation\n",
    "\n",
    "# Start interactive session\n",
    "interactive_recommendation()\n"
   ]
  },
  {
   "cell_type": "code",
   "execution_count": null,
   "id": "544fa5cb-7b68-4fba-afd5-48aa8c53bf9e",
   "metadata": {},
   "outputs": [],
   "source": []
  }
 ],
 "metadata": {
  "kernelspec": {
   "display_name": "Python 3 (ipykernel)",
   "language": "python",
   "name": "python3"
  },
  "language_info": {
   "codemirror_mode": {
    "name": "ipython",
    "version": 3
   },
   "file_extension": ".py",
   "mimetype": "text/x-python",
   "name": "python",
   "nbconvert_exporter": "python",
   "pygments_lexer": "ipython3",
   "version": "3.12.3"
  }
 },
 "nbformat": 4,
 "nbformat_minor": 5
}
